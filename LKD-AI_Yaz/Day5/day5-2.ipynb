{
 "cells": [
  {
   "cell_type": "code",
   "execution_count": null,
   "id": "c6f3fcf3-2855-42bd-af2f-b940eb6c16b4",
   "metadata": {},
   "outputs": [],
   "source": [
    "import numpy as np\n",
    "import random\n",
    "import pandas as pd\n",
    "import minisom\n",
    "from minisom import MiniSom\n",
    "from sklearn.datasets import make_blobs\n",
    "import matplotlib.pyplot as plt"
   ]
  },
  {
   "cell_type": "code",
   "execution_count": null,
   "id": "083299c0-fd74-4b4d-9742-70c0030f864b",
   "metadata": {},
   "outputs": [],
   "source": [
    "'''\n",
    "    ReLu(gradientin fazla buyumesine de sebep olabilir)\n",
    "    Leaky Relu\n",
    "    Pooling\n",
    "    Max Pooling-Average Pooling- L2-Norm - Fractional Poolin\n",
    "'''\n"
   ]
  },
  {
   "cell_type": "code",
   "execution_count": null,
   "id": "6aee5731-07f2-4588-b738-2071f7c87987",
   "metadata": {},
   "outputs": [],
   "source": []
  },
  {
   "cell_type": "code",
   "execution_count": null,
   "id": "ce07e80d-54dc-4c51-9e5b-665511f7aaef",
   "metadata": {},
   "outputs": [],
   "source": []
  },
  {
   "cell_type": "code",
   "execution_count": null,
   "id": "4817b159-5455-41c1-9406-c059925974ec",
   "metadata": {},
   "outputs": [],
   "source": [
    "\"\"\"\n",
    "    Hopfield aglari\n",
    "\"\"\""
   ]
  },
  {
   "cell_type": "code",
   "execution_count": null,
   "id": "2072c9c8-a272-4027-9e4c-252d15a39f06",
   "metadata": {},
   "outputs": [],
   "source": [
    "pattern1= np.array([\n",
    "    [1,1,1,1,1],\n",
    "    [1,-1,-1,-1,1],\n",
    "    [1,-1,1,-1,1],\n",
    "    [1,-1,-1,-1,1],\n",
    "    [1,1,1,1,1]\n",
    "]).flatten()\n",
    "\n",
    "pattern2=np.array([\n",
    "    [-1,-1,1,-1,-1],\n",
    "    [-1,1,1,1,-1],\n",
    "    [1,1,1,1,1],\n",
    "    [-1,1,1,1,-1],\n",
    "    [-1,-1,1,-1,-1]\n",
    "]).flatten()\n"
   ]
  },
  {
   "cell_type": "code",
   "execution_count": null,
   "id": "cd7603d7-7f96-4106-8eaa-742587f5c999",
   "metadata": {},
   "outputs": [],
   "source": [
    "def plot_pattern(p,title=\"\"):\n",
    "    # plt.plot(pattern,pattern1,label=\"orijina\")\n",
    "    plt.imshow(p.reshape(5,5), cmap='binary')\n",
    "    plt.title(title)\n",
    "    plt.axis('off')\n",
    "    plt.show()\n",
    "plot_pattern(pattern2,\"fake\")"
   ]
  },
  {
   "cell_type": "code",
   "execution_count": null,
   "id": "8139a9e3-4bce-4ac5-b044-4ca399fa4633",
   "metadata": {},
   "outputs": [],
   "source": [
    "patterns=np.array([pattern1,pattern2])\n",
    "n_neurons=pattern1.size"
   ]
  },
  {
   "cell_type": "code",
   "execution_count": null,
   "id": "1a6d4f31-bfce-4ca6-b955-c965087f4368",
   "metadata": {},
   "outputs": [],
   "source": [
    "W=np.zeros((n_neurons,n_neurons))\n",
    "for p in patterns:\n",
    "    W+=np.outer(p,p)\n",
    "np.fill_diagonal(W,0)"
   ]
  },
  {
   "cell_type": "code",
   "execution_count": null,
   "id": "7af19ba2-1f22-4260-a665-a5e880452a01",
   "metadata": {},
   "outputs": [],
   "source": [
    "test_pattern=pattern1.copy()\n",
    "flip_indices=np.random.choice(range(n_neurons),size=int(0.4* n_neurons))\n",
    "test_pattern[flip_indices]*=-1"
   ]
  },
  {
   "cell_type": "code",
   "execution_count": null,
   "id": "cc746311-b51e-4d54-83b4-5d7cfbef79b2",
   "metadata": {},
   "outputs": [],
   "source": [
    "plot_pattern(test_pattern,\"Bozuk\")"
   ]
  },
  {
   "cell_type": "code",
   "execution_count": null,
   "id": "de640608-d88a-4e97-99a4-b2ba0d950533",
   "metadata": {},
   "outputs": [],
   "source": [
    "def hopfiel_update(state,W, steps = 10):\n",
    "    for _ in range(steps):\n",
    "        for i in range(len(state)):\n",
    "            state[i] = 1 if np.dot(W[i],state)>=0 else -1\n",
    "    return state"
   ]
  },
  {
   "cell_type": "code",
   "execution_count": null,
   "id": "4b8cd3cf-2cfe-48ac-929e-f8428a5c1fdc",
   "metadata": {},
   "outputs": [],
   "source": [
    "recovered=hopfiel_update(test_pattern.copy(),W)"
   ]
  },
  {
   "cell_type": "code",
   "execution_count": null,
   "id": "4a76adfb-fdf6-4af6-aa0b-a29c6c6edcee",
   "metadata": {
    "scrolled": true
   },
   "outputs": [],
   "source": [
    "plot_pattern(recovered,\"Recovered\")"
   ]
  },
  {
   "cell_type": "code",
   "execution_count": null,
   "id": "4f81da14-a518-45a5-a5cf-acb70e9829f4",
   "metadata": {},
   "outputs": [],
   "source": []
  },
  {
   "cell_type": "code",
   "execution_count": null,
   "id": "a7bec681-4085-48ec-b565-0e7604c2d910",
   "metadata": {},
   "outputs": [],
   "source": []
  },
  {
   "cell_type": "code",
   "execution_count": null,
   "id": "4ea2d656-f4b4-4b17-9d47-a6f0a199f6fa",
   "metadata": {},
   "outputs": [],
   "source": []
  },
  {
   "cell_type": "code",
   "execution_count": null,
   "id": "be962227-3d3b-4d57-bf72-458134210d84",
   "metadata": {},
   "outputs": [],
   "source": [
    "\"\"\"\n",
    "SOM ve KOHENEN\n",
    "neoviz\"\"\""
   ]
  },
  {
   "cell_type": "code",
   "execution_count": null,
   "id": "2ec606f3-56b7-4a02-9006-0e3f1de3a02e",
   "metadata": {},
   "outputs": [],
   "source": [
    "data,y=make_blobs(n_samples=1000,centers=4,cluster_std=1,random_state=31)\n",
    "plt.scatter(data[:,0],data[:,1],c=\"black\",s=100,alpha=1,label=\"Original\")"
   ]
  },
  {
   "cell_type": "code",
   "execution_count": null,
   "id": "c557fd10-a775-497b-8f78-61e61998da33",
   "metadata": {},
   "outputs": [],
   "source": [
    "#20x20 SOM olustur\n",
    "som=MiniSom(x=10,y=10,input_len=2,sigma=1.0,learning_rate=0.7)\n"
   ]
  },
  {
   "cell_type": "code",
   "execution_count": null,
   "id": "f0f81aab-6aab-4f59-b0c8-40ac446db72c",
   "metadata": {},
   "outputs": [],
   "source": [
    "som.random_weights_init(data)\n",
    "som.train_random(data,5000)"
   ]
  },
  {
   "cell_type": "code",
   "execution_count": null,
   "id": "27b96273-78ef-4acd-9c0f-1f3feb4a5fb6",
   "metadata": {},
   "outputs": [],
   "source": [
    "plt.figure(figsize=(5,6))\n",
    "plt.scatter(data[:,0],data[:,1],c=\"orange\",s=100,alpha=.2,label=\"Veri\")\n",
    "for i in range(10):\n",
    "    for j in range(10):\n",
    "        w=som.get_weights()[i,j]\n",
    "        plt.plot(w[0],w[1],'ro')\n",
    "plt.title(\"Kohonen agi/Som agi haritasi\")\n",
    "plt.legend()\n",
    "plt.show()"
   ]
  },
  {
   "cell_type": "code",
   "execution_count": null,
   "id": "fd27176b-471c-4011-9fc5-5e4b0b9c9d34",
   "metadata": {},
   "outputs": [],
   "source": []
  },
  {
   "cell_type": "code",
   "execution_count": null,
   "id": "8fc11ee2-b332-43dd-b362-a267710afd21",
   "metadata": {},
   "outputs": [],
   "source": []
  }
 ],
 "metadata": {
  "kernelspec": {
   "display_name": "Python [conda env:base] *",
   "language": "python",
   "name": "conda-base-py"
  },
  "language_info": {
   "codemirror_mode": {
    "name": "ipython",
    "version": 3
   },
   "file_extension": ".py",
   "mimetype": "text/x-python",
   "name": "python",
   "nbconvert_exporter": "python",
   "pygments_lexer": "ipython3",
   "version": "3.13.5"
  }
 },
 "nbformat": 4,
 "nbformat_minor": 5
}
