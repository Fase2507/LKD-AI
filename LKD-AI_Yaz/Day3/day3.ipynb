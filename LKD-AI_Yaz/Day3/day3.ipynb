{
 "cells": [
  {
   "cell_type": "code",
   "execution_count": 6,
   "id": "aa3fb411-e917-4776-876b-5fb3522f1b27",
   "metadata": {},
   "outputs": [],
   "source": [
    "import pandas as pd \n",
    "import numpy as np\n",
    "import matplotlib.pyplot as plt\n",
    "import random"
   ]
  },
  {
   "cell_type": "code",
   "execution_count": 10,
   "id": "bf8acdce-7caa-44c8-9464-b2886b303699",
   "metadata": {},
   "outputs": [],
   "source": [
    "features={\n",
    "    \"renk\":[\"kirmizi\",\"kahverengi\",\"sari\"],\n",
    "    \"sapka\":[\"duz\",\"yuvarlak\"],\n",
    "    \"sap\":[\"kahverengi\",\"beyaz\",\"sari\"]\n",
    "}\n",
    "label=[\"P\",\"E\"]\n"
   ]
  },
  {
   "cell_type": "code",
   "execution_count": 12,
   "id": "e64670ff-54fd-4214-86a3-fb24b84a4bcd",
   "metadata": {},
   "outputs": [],
   "source": [
    "rows=[]\n",
    "for _ in range(9):\n",
    "    row={  \n",
    "    \"renk\":random.choice(features[\"renk\"]),\n",
    "    \"sapka\":random.choice(features[\"sapka\"]),\n",
    "    \"sap\":random.choice(features[\"sap\"]),\n",
    "    \"label\":random.choice(label)\n",
    "    }\n",
    "    rows.append(row)\n",
    "df=pd.DataFrame(rows)"
   ]
  },
  {
   "cell_type": "code",
   "execution_count": 25,
   "id": "f68758b9-3368-4c22-881c-4ea8c5ba27c1",
   "metadata": {},
   "outputs": [
    {
     "data": {
      "text/plain": [
       "Index(['renk', 'sapka', 'sap', 'label'], dtype='object')"
      ]
     },
     "execution_count": 25,
     "metadata": {},
     "output_type": "execute_result"
    }
   ],
   "source": [
    "df.columns"
   ]
  },
  {
   "cell_type": "code",
   "execution_count": 60,
   "id": "5ed769be-46fd-4561-81be-58d8422f141d",
   "metadata": {},
   "outputs": [
    {
     "data": {
      "text/plain": [
       "0    P\n",
       "1    P\n",
       "2    E\n",
       "3    P\n",
       "4    P\n",
       "5    P\n",
       "6    E\n",
       "7    E\n",
       "8    E\n",
       "Name: label, dtype: object"
      ]
     },
     "execution_count": 60,
     "metadata": {},
     "output_type": "execute_result"
    }
   ],
   "source": [
    "x=df.drop(columns=[\"label\"])\n",
    "y=df[\"label\"]\n",
    "y"
   ]
  },
  {
   "cell_type": "code",
   "execution_count": 23,
   "id": "84c138b2-b8a7-41e5-b10d-58cd96855b8f",
   "metadata": {},
   "outputs": [
    {
     "data": {
      "text/plain": [
       "'kahverengi'"
      ]
     },
     "execution_count": 23,
     "metadata": {},
     "output_type": "execute_result"
    }
   ],
   "source": [
    "class NaiveBayes():\n",
    "    def __init__(self):\n",
    "        self.class_counts=2\n",
    "        \n",
    "    def train(df):\n",
    "        kategori=x.columns\n",
    "        etiket=y.columns\n",
    "        for i in len(kategori):\n",
    "            for j in len(etiket):\n",
    "                probE=kategori[i]\n",
    "    def predict(clr,sapka,sap):\n",
    "        for "
   ]
  },
  {
   "cell_type": "code",
   "execution_count": 52,
   "id": "7d73a6b0-6fab-44c9-978c-ab87dbec6308",
   "metadata": {},
   "outputs": [
    {
     "name": "stdout",
     "output_type": "stream",
     "text": [
      "0       kirmizi\n",
      "1       kirmizi\n",
      "2    kahverengi\n",
      "3       kirmizi\n",
      "4    kahverengi\n",
      "5       kirmizi\n",
      "6       kirmizi\n",
      "7       kirmizi\n",
      "8          sari\n",
      "Name: renk, dtype: object\n",
      "P\n",
      "P\n",
      "P\n",
      "P\n",
      "P\n",
      "P\n",
      "P\n",
      "P\n",
      "P\n",
      "0         duz\n",
      "1    yuvarlak\n",
      "2    yuvarlak\n",
      "3    yuvarlak\n",
      "4         duz\n",
      "5    yuvarlak\n",
      "6    yuvarlak\n",
      "7    yuvarlak\n",
      "8    yuvarlak\n",
      "Name: sapka, dtype: object\n",
      "P\n",
      "P\n",
      "P\n",
      "P\n",
      "P\n",
      "P\n",
      "P\n",
      "P\n",
      "P\n",
      "0    kahverengi\n",
      "1         beyaz\n",
      "2          sari\n",
      "3         beyaz\n",
      "4    kahverengi\n",
      "5    kahverengi\n",
      "6          sari\n",
      "7    kahverengi\n",
      "8          sari\n",
      "Name: sap, dtype: object\n",
      "P\n",
      "P\n",
      "P\n",
      "P\n",
      "P\n",
      "P\n",
      "P\n",
      "P\n",
      "P\n"
     ]
    }
   ],
   "source": [
    "kategori=x.columns\n",
    "total=len(df)\n",
    "p1,p2,p3=[],[],[]\n",
    "for i in range(len(kategori)):\n",
    "    v=f\"{kategori[i]}\"\n",
    "    print(x[v])\n",
    "    for j in range(len(y)):\n",
    "        c=df[\"label\"][j]\n",
    "        print(c)"
   ]
  },
  {
   "cell_type": "code",
   "execution_count": 86,
   "id": "1d5a1320-0086-4650-bd73-2b44107145be",
   "metadata": {},
   "outputs": [
    {
     "name": "stdout",
     "output_type": "stream",
     "text": [
      "E\n",
      "E\n",
      "E\n",
      "E\n",
      "E\n",
      "E\n",
      "E\n",
      "E\n",
      "E\n"
     ]
    }
   ],
   "source": [
    "for i in range(len(df)):\n",
    "    x=df.iloc[i]\n",
    "    for z in \n",
    "    print(y[2])"
   ]
  },
  {
   "cell_type": "code",
   "execution_count": null,
   "id": "c4ccc436-505c-47b6-9fa8-df789e05f4cf",
   "metadata": {},
   "outputs": [],
   "source": []
  },
  {
   "cell_type": "code",
   "execution_count": null,
   "id": "6b063c51-a2fd-4c96-be13-ae40590fad63",
   "metadata": {},
   "outputs": [],
   "source": []
  }
 ],
 "metadata": {
  "kernelspec": {
   "display_name": "Python [conda env:base] *",
   "language": "python",
   "name": "conda-base-py"
  },
  "language_info": {
   "codemirror_mode": {
    "name": "ipython",
    "version": 3
   },
   "file_extension": ".py",
   "mimetype": "text/x-python",
   "name": "python",
   "nbconvert_exporter": "python",
   "pygments_lexer": "ipython3",
   "version": "3.13.5"
  }
 },
 "nbformat": 4,
 "nbformat_minor": 5
}
