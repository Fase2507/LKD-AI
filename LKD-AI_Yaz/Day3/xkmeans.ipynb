{
 "cells": [
  {
   "cell_type": "code",
   "execution_count": 1,
   "id": "85758664-84fe-4591-8c59-052fd02630f3",
   "metadata": {},
   "outputs": [],
   "source": [
    "import pandas as pd\n",
    "import numpy as np\n",
    "import random\n",
    "import math\n",
    "from typing import List, Tuple, Optional \n",
    "import matplotlib.pyplot as plt\n",
    "\n"
   ]
  },
  {
   "cell_type": "code",
   "execution_count": 2,
   "id": "9f7906b0-0701-414e-a37a-7d0d1ab033e5",
   "metadata": {},
   "outputs": [],
   "source": [
    "#K-means de merkezler random verildikten sonra Oklid ile noktalar arasi uzaklik hesaplanir,ortalamalari alinir\n",
    "#Kumeleme yapilir ve merkezler tekrar guncellenir"
   ]
  },
  {
   "cell_type": "code",
   "execution_count": 3,
   "id": "938215a4-73e9-4085-bfe9-1d86e746eb59",
   "metadata": {},
   "outputs": [],
   "source": [
    "def euclidiean(p1: List[float],p2: List[float])-> float:\n",
    "    return math.sqrt(sum((x1-x2)**2 for x1,x2 in zip(p1,p2)))"
   ]
  },
  {
   "cell_type": "code",
   "execution_count": 4,
   "id": "143612b0-d27b-4ff0-8885-64c82e1d1f65",
   "metadata": {},
   "outputs": [],
   "source": [
    "def mean_point(points: List[List[float]])-> List[float]|None:\n",
    "    n=len(points)\n",
    "    if n==0:\n",
    "        return None\n",
    "    dim=len(points[0])\n",
    "    return [sum(p[i] for p in points)/n for i in range(dim)]"
   ]
  },
  {
   "cell_type": "code",
   "execution_count": 5,
   "id": "fbcd6386-f3c8-436d-85a3-66ec7339cecf",
   "metadata": {},
   "outputs": [],
   "source": [
    "def kmeans(\n",
    "    x: List[List[float]],\n",
    "    k: int,\n",
    "    max_iter: int=1000\n",
    ") -> Tuple[List[List[float]],List[int]]:\n",
    "\n",
    "#Baslangic merkezlerini rastgele belirle\n",
    "    centers: List[List[float]]=random.sample(x,k)\n",
    "    for Iter in range(max_iter):\n",
    "      #2.Noktalarin uzaklik hesaplamasi ve en yakin merkeze atanmasi   \n",
    "        labels: List[int]=[]\n",
    "        for p in x:\n",
    "            distances=[euclidiean(p,c) for c in centers]\n",
    "            labels.append(distances.index(min(distances)))\n",
    "      #3 her kume icin yeni merkezleri hesapla\n",
    "        new_centers: List[List[float]]=[]\n",
    "        for j in range(k):\n",
    "            cluster_points=[p for p, lbl in zip(X,labels) if lbl ==j]\n",
    "            c=mean_point(cluster_points)\n",
    "            if c is None:\n",
    "                c=centers[j]\n",
    "            new_centers.append(c)\n",
    "\n",
    "      #4. eger merkez ayniysa durdur\n",
    "        if new_centers==centers:\n",
    "            break\n",
    "        centers=new_centers\n",
    "    return centers,labels"
   ]
  },
  {
   "cell_type": "code",
   "execution_count": 6,
   "id": "0fab86c1-091a-4c2e-a93a-60c198011336",
   "metadata": {},
   "outputs": [
    {
     "data": {
      "text/plain": [
       "1.4142"
      ]
     },
     "execution_count": 6,
     "metadata": {},
     "output_type": "execute_result"
    }
   ],
   "source": [
    "p1=[1,2]\n",
    "p2=[2,1]\n",
    "round(euclidiean(p1,p2),4)"
   ]
  },
  {
   "cell_type": "code",
   "execution_count": 7,
   "id": "3b99ba90-d239-4fad-8085-c7dacb370ae2",
   "metadata": {},
   "outputs": [
    {
     "data": {
      "text/plain": [
       "[2.0]"
      ]
     },
     "execution_count": 7,
     "metadata": {},
     "output_type": "execute_result"
    }
   ],
   "source": [
    "mean_point([[1],[2],[1],[4]])"
   ]
  },
  {
   "cell_type": "code",
   "execution_count": null,
   "id": "d85bb03e-cd0d-4d68-b98c-14bef48bf006",
   "metadata": {},
   "outputs": [],
   "source": []
  }
 ],
 "metadata": {
  "kernelspec": {
   "display_name": "Python [conda env:base] *",
   "language": "python",
   "name": "conda-base-py"
  },
  "language_info": {
   "codemirror_mode": {
    "name": "ipython",
    "version": 3
   },
   "file_extension": ".py",
   "mimetype": "text/x-python",
   "name": "python",
   "nbconvert_exporter": "python",
   "pygments_lexer": "ipython3",
   "version": "3.13.5"
  }
 },
 "nbformat": 4,
 "nbformat_minor": 5
}
